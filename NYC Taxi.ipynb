{
 "cells": [
  {
   "cell_type": "code",
   "execution_count": 1,
   "metadata": {},
   "outputs": [
    {
     "name": "stdout",
     "output_type": "stream",
     "text": [
      "Requirement already satisfied: geopy in c:\\users\\t-govenk.redmond\\appdata\\local\\continuum\\anaconda2\\envs\\kaggle\\lib\\site-packages\n",
      "Requirement already satisfied: pandas in c:\\users\\t-govenk.redmond\\appdata\\local\\continuum\\anaconda2\\envs\\kaggle\\lib\\site-packages\n",
      "Requirement already satisfied: pytz>=2011k in c:\\users\\t-govenk.redmond\\appdata\\local\\continuum\\anaconda2\\envs\\kaggle\\lib\\site-packages (from pandas)\n",
      "Requirement already satisfied: python-dateutil in c:\\users\\t-govenk.redmond\\appdata\\local\\continuum\\anaconda2\\envs\\kaggle\\lib\\site-packages (from pandas)\n",
      "Requirement already satisfied: numpy>=1.7.0 in c:\\users\\t-govenk.redmond\\appdata\\local\\continuum\\anaconda2\\envs\\kaggle\\lib\\site-packages (from pandas)\n",
      "Requirement already satisfied: six>=1.5 in c:\\users\\t-govenk.redmond\\appdata\\local\\continuum\\anaconda2\\envs\\kaggle\\lib\\site-packages (from python-dateutil->pandas)\n"
     ]
    }
   ],
   "source": [
    "!pip install geopy\n",
    "!pip install pandas"
   ]
  },
  {
   "cell_type": "code",
   "execution_count": 2,
   "metadata": {},
   "outputs": [
    {
     "name": "stdout",
     "output_type": "stream",
     "text": [
      "           vendor_id      pickup_datetime     dropoff_datetime  \\\n",
      "id                                                               \n",
      "id2875421          2  2016-03-14 17:24:55  2016-03-14 17:32:30   \n",
      "id2377394          1  2016-06-12 00:43:35  2016-06-12 00:54:38   \n",
      "id3858529          2  2016-01-19 11:35:24  2016-01-19 12:10:48   \n",
      "id3504673          2  2016-04-06 19:32:31  2016-04-06 19:39:40   \n",
      "id2181028          2  2016-03-26 13:30:55  2016-03-26 13:38:10   \n",
      "\n",
      "           passenger_count  pickup_longitude  pickup_latitude  \\\n",
      "id                                                              \n",
      "id2875421                1        -73.982155        40.767937   \n",
      "id2377394                1        -73.980415        40.738564   \n",
      "id3858529                1        -73.979027        40.763939   \n",
      "id3504673                1        -74.010040        40.719971   \n",
      "id2181028                1        -73.973053        40.793209   \n",
      "\n",
      "           dropoff_longitude  dropoff_latitude store_and_fwd_flag  \\\n",
      "id                                                                  \n",
      "id2875421         -73.964630         40.765602                  N   \n",
      "id2377394         -73.999481         40.731152                  N   \n",
      "id3858529         -74.005333         40.710087                  N   \n",
      "id3504673         -74.012268         40.706718                  N   \n",
      "id2181028         -73.972923         40.782520                  N   \n",
      "\n",
      "           trip_duration  \n",
      "id                        \n",
      "id2875421            455  \n",
      "id2377394            663  \n",
      "id3858529           2124  \n",
      "id3504673            429  \n",
      "id2181028            435  \n"
     ]
    }
   ],
   "source": [
    "import pandas as pd\n",
    "df = pd.read_csv('train/train.csv', index_col=0)\n",
    "print df.head()"
   ]
  },
  {
   "cell_type": "code",
   "execution_count": 4,
   "metadata": {},
   "outputs": [
    {
     "name": "stdout",
     "output_type": "stream",
     "text": [
      "           vendor_id      pickup_datetime     dropoff_datetime  \\\n",
      "id                                                               \n",
      "id2875421          2  2016-03-14 17:24:55  2016-03-14 17:32:30   \n",
      "id2377394          1  2016-06-12 00:43:35  2016-06-12 00:54:38   \n",
      "id3858529          2  2016-01-19 11:35:24  2016-01-19 12:10:48   \n",
      "id3504673          2  2016-04-06 19:32:31  2016-04-06 19:39:40   \n",
      "id2181028          2  2016-03-26 13:30:55  2016-03-26 13:38:10   \n",
      "\n",
      "           passenger_count  pickup_longitude  pickup_latitude  \\\n",
      "id                                                              \n",
      "id2875421                1        -73.982155        40.767937   \n",
      "id2377394                1        -73.980415        40.738564   \n",
      "id3858529                1        -73.979027        40.763939   \n",
      "id3504673                1        -74.010040        40.719971   \n",
      "id2181028                1        -73.973053        40.793209   \n",
      "\n",
      "           dropoff_longitude  dropoff_latitude store_and_fwd_flag  \\\n",
      "id                                                                  \n",
      "id2875421         -73.964630         40.765602                  N   \n",
      "id2377394         -73.999481         40.731152                  N   \n",
      "id3858529         -74.005333         40.710087                  N   \n",
      "id3504673         -74.012268         40.706718                  N   \n",
      "id2181028         -73.972923         40.782520                  N   \n",
      "\n",
      "           trip_duration  distance  month  day  pickup_hour  dropoff_hour  \n",
      "id                                                                         \n",
      "id2875421            455  0.931400      3    0           17            17  \n",
      "id2377394            663  1.122206      6    6            0             0  \n",
      "id3858529           2124  3.968634      1    1           11            12  \n",
      "id3504673            429  0.923306      4    2           19            19  \n",
      "id2181028            435  0.738763      3    5           13            13  \n"
     ]
    }
   ],
   "source": [
    "from geopy.distance import great_circle\n",
    "from dateutil.parser import parse\n",
    "\n",
    "def get_distance(lat1, long1, lat2, long2):\n",
    "    return great_circle((lat1, long1), (lat2, long2)).miles\n",
    "\n",
    "df['distance'] = df.apply(lambda row : get_distance(row['pickup_latitude'], row['pickup_longitude'], row['dropoff_latitude'], \n",
    "                                                    row['dropoff_longitude']), axis=1)\n",
    "df['month'] = df.apply(lambda row: parse(row['pickup_datetime']).month, axis=1)\n",
    "df['day'] = df.apply(lambda row: parse(row['pickup_datetime']).weekday(), axis=1)\n",
    "df['pickup_hour'] = df.apply(lambda row: parse(row['pickup_datetime']).hour, axis=1)\n",
    "df['dropoff_hour'] = df.apply(lambda row: parse(row['dropoff_datetime']).hour, axis=1)\n",
    "\n",
    "print df.head()"
   ]
  },
  {
   "cell_type": "code",
   "execution_count": 7,
   "metadata": {},
   "outputs": [
    {
     "name": "stderr",
     "output_type": "stream",
     "text": [
      "C:\\Users\\t-govenk.REDMOND\\AppData\\Local\\Continuum\\Anaconda2\\envs\\kaggle\\lib\\site-packages\\ipykernel_launcher.py:6: SettingWithCopyWarning: \n",
      "A value is trying to be set on a copy of a slice from a DataFrame.\n",
      "Try using .loc[row_indexer,col_indexer] = value instead\n",
      "\n",
      "See the caveats in the documentation: http://pandas.pydata.org/pandas-docs/stable/indexing.html#indexing-view-versus-copy\n",
      "  \n"
     ]
    }
   ],
   "source": [
    "from sklearn import preprocessing\n",
    "from sklearn.ensemble import GradientBoostingRegressor\n",
    "\n",
    "yes_func = lambda x: 1 if x == 'Y' else 0\n",
    "customized_df = df[['vendor_id', 'month', 'day', 'pickup_hour', 'dropoff_hour', 'store_and_fwd_flag', 'trip_duration']]\n",
    "customized_df['store_and_fwd_flag'] = customized_df.apply(lambda row: yes_func(row['store_and_fwd_flag']), axis=1)\n",
    "\n",
    "scaled_df = customized_df.copy()\n",
    "# x = customized_df.values #returns a numpy array\n",
    "# min_max_scaler = preprocessing.MinMaxScaler()\n",
    "# x_scaled = min_max_scaler.fit_transform(x)\n",
    "# scaled_df = pd.DataFrame(x_scaled, columns=customized_df.columns)\n",
    "# print scaled_df.head()"
   ]
  },
  {
   "cell_type": "code",
   "execution_count": null,
   "metadata": {},
   "outputs": [],
   "source": [
    "from sklearn.grid_search import GridSearchCV\n",
    "from sklearn.metrics import make_scorer\n",
    "param_grid = {'learning_rate': [0.1, 0.05, 0.02, 0.01],\n",
    "              'max_depth': [4, 6],\n",
    "              'min_samples_leaf': [3, 5, 9, 17],\n",
    "              }\n",
    "\n",
    "X_train, y_train = scaled_df[['vendor_id', 'month', 'day', 'pickup_hour', 'dropoff_hour', 'store_and_fwd_flag']].values, scaled_df[['trip_duration']].values\n",
    "model = GradientBoostingRegressor(n_estimators=2000)\n",
    "gs_cv = GridSearchCV(model, param_grid, n_jobs=4, verbose=4, scoring='mean_squared_error').fit(X_train, y_train)\n",
    "print gs_cv.best_params_\n",
    "print gs_cv.best_score_"
   ]
  },
  {
   "cell_type": "code",
   "execution_count": null,
   "metadata": {
    "collapsed": true
   },
   "outputs": [],
   "source": []
  }
 ],
 "metadata": {
  "kernelspec": {
   "display_name": "Python 2",
   "language": "python",
   "name": "python2"
  },
  "language_info": {
   "codemirror_mode": {
    "name": "ipython",
    "version": 2
   },
   "file_extension": ".py",
   "mimetype": "text/x-python",
   "name": "python",
   "nbconvert_exporter": "python",
   "pygments_lexer": "ipython2",
   "version": "2.7.13"
  }
 },
 "nbformat": 4,
 "nbformat_minor": 2
}
