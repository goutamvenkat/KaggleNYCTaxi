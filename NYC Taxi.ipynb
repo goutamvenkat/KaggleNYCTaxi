{
 "cells": [
  {
   "cell_type": "code",
   "execution_count": 1,
   "metadata": {},
   "outputs": [
    {
     "name": "stdout",
     "output_type": "stream",
     "text": [
      "Collecting geopy\n",
      "  Downloading geopy-1.11.0-py2.py3-none-any.whl (66kB)\n",
      "Installing collected packages: geopy\n",
      "Successfully installed geopy-1.11.0\n",
      "Collecting pandas\n",
      "  Downloading pandas-0.20.3-cp27-cp27m-win_amd64.whl (8.3MB)\n",
      "Collecting pytz>=2011k (from pandas)\n",
      "  Downloading pytz-2017.2-py2.py3-none-any.whl (484kB)\n",
      "Requirement already satisfied: python-dateutil in c:\\users\\t-govenk\\appdata\\local\\continuum\\anaconda2\\envs\\kaggle\\lib\\site-packages (from pandas)\n",
      "Collecting numpy>=1.7.0 (from pandas)\n",
      "  Downloading numpy-1.13.1-cp27-none-win_amd64.whl (7.6MB)\n",
      "Requirement already satisfied: six>=1.5 in c:\\users\\t-govenk\\appdata\\local\\continuum\\anaconda2\\envs\\kaggle\\lib\\site-packages (from python-dateutil->pandas)\n",
      "Installing collected packages: pytz, numpy, pandas\n",
      "Successfully installed numpy-1.13.1 pandas-0.20.3 pytz-2017.2\n"
     ]
    }
   ],
   "source": [
    "!pip install geopy\n",
    "!pip install pandas"
   ]
  },
  {
   "cell_type": "code",
   "execution_count": 2,
   "metadata": {},
   "outputs": [
    {
     "name": "stdout",
     "output_type": "stream",
     "text": [
      "           vendor_id      pickup_datetime     dropoff_datetime  \\\n",
      "id                                                               \n",
      "id2875421          2  2016-03-14 17:24:55  2016-03-14 17:32:30   \n",
      "id2377394          1  2016-06-12 00:43:35  2016-06-12 00:54:38   \n",
      "id3858529          2  2016-01-19 11:35:24  2016-01-19 12:10:48   \n",
      "id3504673          2  2016-04-06 19:32:31  2016-04-06 19:39:40   \n",
      "id2181028          2  2016-03-26 13:30:55  2016-03-26 13:38:10   \n",
      "\n",
      "           passenger_count  pickup_longitude  pickup_latitude  \\\n",
      "id                                                              \n",
      "id2875421                1        -73.982155        40.767937   \n",
      "id2377394                1        -73.980415        40.738564   \n",
      "id3858529                1        -73.979027        40.763939   \n",
      "id3504673                1        -74.010040        40.719971   \n",
      "id2181028                1        -73.973053        40.793209   \n",
      "\n",
      "           dropoff_longitude  dropoff_latitude store_and_fwd_flag  \\\n",
      "id                                                                  \n",
      "id2875421         -73.964630         40.765602                  N   \n",
      "id2377394         -73.999481         40.731152                  N   \n",
      "id3858529         -74.005333         40.710087                  N   \n",
      "id3504673         -74.012268         40.706718                  N   \n",
      "id2181028         -73.972923         40.782520                  N   \n",
      "\n",
      "           trip_duration  \n",
      "id                        \n",
      "id2875421            455  \n",
      "id2377394            663  \n",
      "id3858529           2124  \n",
      "id3504673            429  \n",
      "id2181028            435  \n"
     ]
    }
   ],
   "source": [
    "import pandas as pd\n",
    "df = pd.read_csv('train/train.csv', index_col=0)\n",
    "print df.head()"
   ]
  },
  {
   "cell_type": "code",
   "execution_count": null,
   "metadata": {},
   "outputs": [],
   "source": [
    "from geopy.distance import great_circle\n",
    "from dateutil.parser import parse\n",
    "\n",
    "def get_distance(lat1, long1, lat2, long2):\n",
    "    return great_circle((lat1, long1), (lat2, long2)).miles\n",
    "\n",
    "df['distance'] = df.apply(lambda row : get_distance(row['pickup_latitude'], row['pickup_longitude'], row['dropoff_latitude'], \n",
    "                                                    row['dropoff_longitude']), axis=1)\n",
    "df['month'] = df.apply(lambda row: parse(row['pickup_datetime']).month, axis=1)\n",
    "df['day'] = df.apply(lambda row: parse(row['pickup_datetime']).day, axis=1)\n",
    "df['pickup_hour'] = df.apply(lambda row: parse(row['pickup_datetime']).hour, axis=1)\n",
    "df['dropoff_hour'] = df.apply(lambda row: parse(row['dropoff_datetime']).hour, axis=1)\n",
    "\n",
    "print df.head()"
   ]
  },
  {
   "cell_type": "code",
   "execution_count": null,
   "metadata": {
    "collapsed": true
   },
   "outputs": [],
   "source": []
  }
 ],
 "metadata": {
  "kernelspec": {
   "display_name": "Python 2",
   "language": "python",
   "name": "python2"
  },
  "language_info": {
   "codemirror_mode": {
    "name": "ipython",
    "version": 2
   },
   "file_extension": ".py",
   "mimetype": "text/x-python",
   "name": "python",
   "nbconvert_exporter": "python",
   "pygments_lexer": "ipython2",
   "version": "2.7.13"
  }
 },
 "nbformat": 4,
 "nbformat_minor": 2
}
