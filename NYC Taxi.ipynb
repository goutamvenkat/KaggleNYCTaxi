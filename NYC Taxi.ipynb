{
 "cells": [
  {
   "cell_type": "code",
   "execution_count": 1,
   "metadata": {},
   "outputs": [
    {
     "name": "stdout",
     "output_type": "stream",
     "text": [
      "Collecting geopy\n",
      "  Downloading geopy-1.11.0-py2.py3-none-any.whl (66kB)\n",
      "Installing collected packages: geopy\n",
      "Successfully installed geopy-1.11.0\n",
      "Collecting pandas\n",
      "  Downloading pandas-0.20.3-cp27-cp27m-win_amd64.whl (8.3MB)\n",
      "Collecting pytz>=2011k (from pandas)\n",
      "  Downloading pytz-2017.2-py2.py3-none-any.whl (484kB)\n",
      "Requirement already satisfied: python-dateutil in c:\\users\\t-govenk\\appdata\\local\\continuum\\anaconda2\\envs\\kaggle\\lib\\site-packages (from pandas)\n",
      "Collecting numpy>=1.7.0 (from pandas)\n",
      "  Downloading numpy-1.13.1-cp27-none-win_amd64.whl (7.6MB)\n",
      "Requirement already satisfied: six>=1.5 in c:\\users\\t-govenk\\appdata\\local\\continuum\\anaconda2\\envs\\kaggle\\lib\\site-packages (from python-dateutil->pandas)\n",
      "Installing collected packages: pytz, numpy, pandas\n",
      "Successfully installed numpy-1.13.1 pandas-0.20.3 pytz-2017.2\n"
     ]
    }
   ],
   "source": [
    "!pip install geopy\n",
    "!pip install pandas"
   ]
  },
  {
   "cell_type": "code",
   "execution_count": null,
   "metadata": {
    "collapsed": true
   },
   "outputs": [],
   "source": [
    "import pandas as pd\n"
   ]
  }
 ],
 "metadata": {
  "kernelspec": {
   "display_name": "Python 2",
   "language": "python",
   "name": "python2"
  },
  "language_info": {
   "codemirror_mode": {
    "name": "ipython",
    "version": 2
   },
   "file_extension": ".py",
   "mimetype": "text/x-python",
   "name": "python",
   "nbconvert_exporter": "python",
   "pygments_lexer": "ipython2",
   "version": "2.7.13"
  }
 },
 "nbformat": 4,
 "nbformat_minor": 2
}
