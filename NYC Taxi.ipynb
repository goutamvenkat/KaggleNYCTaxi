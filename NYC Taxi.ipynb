{
 "cells": [
  {
   "cell_type": "code",
   "execution_count": 1,
   "metadata": {},
   "outputs": [
    {
     "name": "stdout",
     "output_type": "stream",
     "text": [
      "Collecting geopy\n",
      "  Downloading geopy-1.11.0-py2.py3-none-any.whl (66kB)\n",
      "Installing collected packages: geopy\n",
      "Successfully installed geopy-1.11.0\n",
      "Collecting pandas\n",
      "  Downloading pandas-0.20.3-cp27-cp27m-win_amd64.whl (8.3MB)\n",
      "Collecting pytz>=2011k (from pandas)\n",
      "  Downloading pytz-2017.2-py2.py3-none-any.whl (484kB)\n",
      "Requirement already satisfied: python-dateutil in c:\\users\\t-govenk\\appdata\\local\\continuum\\anaconda2\\envs\\kaggle\\lib\\site-packages (from pandas)\n",
      "Collecting numpy>=1.7.0 (from pandas)\n",
      "  Downloading numpy-1.13.1-cp27-none-win_amd64.whl (7.6MB)\n",
      "Requirement already satisfied: six>=1.5 in c:\\users\\t-govenk\\appdata\\local\\continuum\\anaconda2\\envs\\kaggle\\lib\\site-packages (from python-dateutil->pandas)\n",
      "Installing collected packages: pytz, numpy, pandas\n",
      "Successfully installed numpy-1.13.1 pandas-0.20.3 pytz-2017.2\n"
     ]
    }
   ],
   "source": [
    "!pip install geopy\n",
    "!pip install pandas"
   ]
  },
  {
   "cell_type": "code",
   "execution_count": 2,
   "metadata": {},
   "outputs": [
    {
     "name": "stdout",
     "output_type": "stream",
     "text": [
      "           vendor_id      pickup_datetime     dropoff_datetime  \\\n",
      "id                                                               \n",
      "id2875421          2  2016-03-14 17:24:55  2016-03-14 17:32:30   \n",
      "id2377394          1  2016-06-12 00:43:35  2016-06-12 00:54:38   \n",
      "id3858529          2  2016-01-19 11:35:24  2016-01-19 12:10:48   \n",
      "id3504673          2  2016-04-06 19:32:31  2016-04-06 19:39:40   \n",
      "id2181028          2  2016-03-26 13:30:55  2016-03-26 13:38:10   \n",
      "\n",
      "           passenger_count  pickup_longitude  pickup_latitude  \\\n",
      "id                                                              \n",
      "id2875421                1        -73.982155        40.767937   \n",
      "id2377394                1        -73.980415        40.738564   \n",
      "id3858529                1        -73.979027        40.763939   \n",
      "id3504673                1        -74.010040        40.719971   \n",
      "id2181028                1        -73.973053        40.793209   \n",
      "\n",
      "           dropoff_longitude  dropoff_latitude store_and_fwd_flag  \\\n",
      "id                                                                  \n",
      "id2875421         -73.964630         40.765602                  N   \n",
      "id2377394         -73.999481         40.731152                  N   \n",
      "id3858529         -74.005333         40.710087                  N   \n",
      "id3504673         -74.012268         40.706718                  N   \n",
      "id2181028         -73.972923         40.782520                  N   \n",
      "\n",
      "           trip_duration  \n",
      "id                        \n",
      "id2875421            455  \n",
      "id2377394            663  \n",
      "id3858529           2124  \n",
      "id3504673            429  \n",
      "id2181028            435  \n"
     ]
    }
   ],
   "source": [
    "import pandas as pd\n",
    "df = pd.read_csv('train/train.csv', index_col=0)\n",
    "print df.head()"
   ]
  },
  {
   "cell_type": "code",
   "execution_count": 3,
   "metadata": {},
   "outputs": [
    {
     "name": "stdout",
     "output_type": "stream",
     "text": [
      "           vendor_id      pickup_datetime     dropoff_datetime  \\\n",
      "id                                                               \n",
      "id2875421          2  2016-03-14 17:24:55  2016-03-14 17:32:30   \n",
      "id2377394          1  2016-06-12 00:43:35  2016-06-12 00:54:38   \n",
      "id3858529          2  2016-01-19 11:35:24  2016-01-19 12:10:48   \n",
      "id3504673          2  2016-04-06 19:32:31  2016-04-06 19:39:40   \n",
      "id2181028          2  2016-03-26 13:30:55  2016-03-26 13:38:10   \n",
      "\n",
      "           passenger_count  pickup_longitude  pickup_latitude  \\\n",
      "id                                                              \n",
      "id2875421                1        -73.982155        40.767937   \n",
      "id2377394                1        -73.980415        40.738564   \n",
      "id3858529                1        -73.979027        40.763939   \n",
      "id3504673                1        -74.010040        40.719971   \n",
      "id2181028                1        -73.973053        40.793209   \n",
      "\n",
      "           dropoff_longitude  dropoff_latitude store_and_fwd_flag  \\\n",
      "id                                                                  \n",
      "id2875421         -73.964630         40.765602                  N   \n",
      "id2377394         -73.999481         40.731152                  N   \n",
      "id3858529         -74.005333         40.710087                  N   \n",
      "id3504673         -74.012268         40.706718                  N   \n",
      "id2181028         -73.972923         40.782520                  N   \n",
      "\n",
      "           trip_duration  distance  month  day  pickup_hour  dropoff_hour  \n",
      "id                                                                         \n",
      "id2875421            455  0.931400      3   14           17            17  \n",
      "id2377394            663  1.122206      6   12            0             0  \n",
      "id3858529           2124  3.968634      1   19           11            12  \n",
      "id3504673            429  0.923306      4    6           19            19  \n",
      "id2181028            435  0.738763      3   26           13            13  \n"
     ]
    }
   ],
   "source": [
    "from geopy.distance import great_circle\n",
    "from dateutil.parser import parse\n",
    "\n",
    "def get_distance(lat1, long1, lat2, long2):\n",
    "    return great_circle((lat1, long1), (lat2, long2)).miles\n",
    "\n",
    "df['distance'] = df.apply(lambda row : get_distance(row['pickup_latitude'], row['pickup_longitude'], row['dropoff_latitude'], \n",
    "                                                    row['dropoff_longitude']), axis=1)\n",
    "df['month'] = df.apply(lambda row: parse(row['pickup_datetime']).month, axis=1)\n",
    "df['day'] = df.apply(lambda row: parse(row['pickup_datetime']).day, axis=1)\n",
    "df['pickup_hour'] = df.apply(lambda row: parse(row['pickup_datetime']).hour, axis=1)\n",
    "df['dropoff_hour'] = df.apply(lambda row: parse(row['dropoff_datetime']).hour, axis=1)\n",
    "\n",
    "print df.head()"
   ]
  },
  {
   "cell_type": "code",
   "execution_count": 11,
   "metadata": {},
   "outputs": [
    {
     "name": "stderr",
     "output_type": "stream",
     "text": [
      "C:\\Users\\t-govenk\\AppData\\Local\\Continuum\\Anaconda2\\envs\\kaggle\\lib\\site-packages\\ipykernel_launcher.py:6: SettingWithCopyWarning: \n",
      "A value is trying to be set on a copy of a slice from a DataFrame.\n",
      "Try using .loc[row_indexer,col_indexer] = value instead\n",
      "\n",
      "See the caveats in the documentation: http://pandas.pydata.org/pandas-docs/stable/indexing.html#indexing-view-versus-copy\n",
      "  \n"
     ]
    }
   ],
   "source": [
    "from sklearn import preprocessing\n",
    "from sklearn.ensemble import GradientBoostingRegressor\n",
    "\n",
    "yes_func = lambda x: 1 if x == 'Y' else 0\n",
    "customized_df = df[['vendor_id', 'month', 'day', 'pickup_hour', 'dropoff_hour', 'store_and_fwd_flag', 'trip_duration']]\n",
    "customized_df['store_and_fwd_flag'] = customized_df.apply(lambda row: yes_func(row['store_and_fwd_flag']), axis=1)\n",
    "\n",
    "x = customized_df.values #returns a numpy array\n",
    "min_max_scaler = preprocessing.MinMaxScaler()\n",
    "x_scaled = min_max_scaler.fit_transform(x)\n",
    "scaled_df = pd.DataFrame(x_scaled, columns=customized_df.columns)\n",
    "print scaled_df"
   ]
  },
  {
   "cell_type": "code",
   "execution_count": 20,
   "metadata": {},
   "outputs": [
    {
     "ename": "ValueError",
     "evalue": "continuous is not supported",
     "output_type": "error",
     "traceback": [
      "\u001b[1;31m---------------------------------------------------------------------------\u001b[0m",
      "\u001b[1;31mValueError\u001b[0m                                Traceback (most recent call last)",
      "\u001b[1;32m<ipython-input-20-098771a55f75>\u001b[0m in \u001b[0;36m<module>\u001b[1;34m()\u001b[0m\n\u001b[0;32m      5\u001b[0m \u001b[0mmodel\u001b[0m\u001b[1;33m.\u001b[0m\u001b[0mfit\u001b[0m\u001b[1;33m(\u001b[0m\u001b[0mX\u001b[0m\u001b[1;33m,\u001b[0m \u001b[0my\u001b[0m\u001b[1;33m)\u001b[0m\u001b[1;33m\u001b[0m\u001b[0m\n\u001b[0;32m      6\u001b[0m \u001b[0mpredictions\u001b[0m \u001b[1;33m=\u001b[0m \u001b[0mmodel\u001b[0m\u001b[1;33m.\u001b[0m\u001b[0mpredict\u001b[0m\u001b[1;33m(\u001b[0m\u001b[0mX\u001b[0m\u001b[1;33m)\u001b[0m\u001b[1;33m\u001b[0m\u001b[0m\n\u001b[1;32m----> 7\u001b[1;33m \u001b[1;32mprint\u001b[0m \u001b[0maccuracy_score\u001b[0m\u001b[1;33m(\u001b[0m\u001b[0my\u001b[0m\u001b[1;33m,\u001b[0m \u001b[0mpredictions\u001b[0m\u001b[1;33m)\u001b[0m\u001b[1;33m\u001b[0m\u001b[0m\n\u001b[0m",
      "\u001b[1;32mC:\\Users\\t-govenk\\AppData\\Local\\Continuum\\Anaconda2\\envs\\kaggle\\lib\\site-packages\\sklearn\\metrics\\classification.pyc\u001b[0m in \u001b[0;36maccuracy_score\u001b[1;34m(y_true, y_pred, normalize, sample_weight)\u001b[0m\n\u001b[0;32m    170\u001b[0m \u001b[1;33m\u001b[0m\u001b[0m\n\u001b[0;32m    171\u001b[0m     \u001b[1;31m# Compute accuracy for each possible representation\u001b[0m\u001b[1;33m\u001b[0m\u001b[1;33m\u001b[0m\u001b[0m\n\u001b[1;32m--> 172\u001b[1;33m     \u001b[0my_type\u001b[0m\u001b[1;33m,\u001b[0m \u001b[0my_true\u001b[0m\u001b[1;33m,\u001b[0m \u001b[0my_pred\u001b[0m \u001b[1;33m=\u001b[0m \u001b[0m_check_targets\u001b[0m\u001b[1;33m(\u001b[0m\u001b[0my_true\u001b[0m\u001b[1;33m,\u001b[0m \u001b[0my_pred\u001b[0m\u001b[1;33m)\u001b[0m\u001b[1;33m\u001b[0m\u001b[0m\n\u001b[0m\u001b[0;32m    173\u001b[0m     \u001b[1;32mif\u001b[0m \u001b[0my_type\u001b[0m\u001b[1;33m.\u001b[0m\u001b[0mstartswith\u001b[0m\u001b[1;33m(\u001b[0m\u001b[1;34m'multilabel'\u001b[0m\u001b[1;33m)\u001b[0m\u001b[1;33m:\u001b[0m\u001b[1;33m\u001b[0m\u001b[0m\n\u001b[0;32m    174\u001b[0m         \u001b[0mdiffering_labels\u001b[0m \u001b[1;33m=\u001b[0m \u001b[0mcount_nonzero\u001b[0m\u001b[1;33m(\u001b[0m\u001b[0my_true\u001b[0m \u001b[1;33m-\u001b[0m \u001b[0my_pred\u001b[0m\u001b[1;33m,\u001b[0m \u001b[0maxis\u001b[0m\u001b[1;33m=\u001b[0m\u001b[1;36m1\u001b[0m\u001b[1;33m)\u001b[0m\u001b[1;33m\u001b[0m\u001b[0m\n",
      "\u001b[1;32mC:\\Users\\t-govenk\\AppData\\Local\\Continuum\\Anaconda2\\envs\\kaggle\\lib\\site-packages\\sklearn\\metrics\\classification.pyc\u001b[0m in \u001b[0;36m_check_targets\u001b[1;34m(y_true, y_pred)\u001b[0m\n\u001b[0;32m     87\u001b[0m     \u001b[1;31m# No metrics support \"multiclass-multioutput\" format\u001b[0m\u001b[1;33m\u001b[0m\u001b[1;33m\u001b[0m\u001b[0m\n\u001b[0;32m     88\u001b[0m     \u001b[1;32mif\u001b[0m \u001b[1;33m(\u001b[0m\u001b[0my_type\u001b[0m \u001b[1;32mnot\u001b[0m \u001b[1;32min\u001b[0m \u001b[1;33m[\u001b[0m\u001b[1;34m\"binary\"\u001b[0m\u001b[1;33m,\u001b[0m \u001b[1;34m\"multiclass\"\u001b[0m\u001b[1;33m,\u001b[0m \u001b[1;34m\"multilabel-indicator\"\u001b[0m\u001b[1;33m]\u001b[0m\u001b[1;33m)\u001b[0m\u001b[1;33m:\u001b[0m\u001b[1;33m\u001b[0m\u001b[0m\n\u001b[1;32m---> 89\u001b[1;33m         \u001b[1;32mraise\u001b[0m \u001b[0mValueError\u001b[0m\u001b[1;33m(\u001b[0m\u001b[1;34m\"{0} is not supported\"\u001b[0m\u001b[1;33m.\u001b[0m\u001b[0mformat\u001b[0m\u001b[1;33m(\u001b[0m\u001b[0my_type\u001b[0m\u001b[1;33m)\u001b[0m\u001b[1;33m)\u001b[0m\u001b[1;33m\u001b[0m\u001b[0m\n\u001b[0m\u001b[0;32m     90\u001b[0m \u001b[1;33m\u001b[0m\u001b[0m\n\u001b[0;32m     91\u001b[0m     \u001b[1;32mif\u001b[0m \u001b[0my_type\u001b[0m \u001b[1;32min\u001b[0m \u001b[1;33m[\u001b[0m\u001b[1;34m\"binary\"\u001b[0m\u001b[1;33m,\u001b[0m \u001b[1;34m\"multiclass\"\u001b[0m\u001b[1;33m]\u001b[0m\u001b[1;33m:\u001b[0m\u001b[1;33m\u001b[0m\u001b[0m\n",
      "\u001b[1;31mValueError\u001b[0m: continuous is not supported"
     ]
    }
   ],
   "source": [
    "from sklearn.metrics import accuracy_score\n",
    "\n",
    "X, y = scaled_df[['vendor_id', 'month', 'day', 'pickup_hour', 'dropoff_hour', 'store_and_fwd_flag']].values, scaled_df[['trip_duration']].values\n",
    "model = GradientBoostingRegressor()\n",
    "model.fit(X, y)\n",
    "predictions = model.predict(X)\n",
    "print accuracy_score(y, predictions)"
   ]
  },
  {
   "cell_type": "code",
   "execution_count": null,
   "metadata": {
    "collapsed": true
   },
   "outputs": [],
   "source": []
  }
 ],
 "metadata": {
  "kernelspec": {
   "display_name": "Python 2",
   "language": "python",
   "name": "python2"
  },
  "language_info": {
   "codemirror_mode": {
    "name": "ipython",
    "version": 2
   },
   "file_extension": ".py",
   "mimetype": "text/x-python",
   "name": "python",
   "nbconvert_exporter": "python",
   "pygments_lexer": "ipython2",
   "version": "2.7.13"
  }
 },
 "nbformat": 4,
 "nbformat_minor": 2
}
